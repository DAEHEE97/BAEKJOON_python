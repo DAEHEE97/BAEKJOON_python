{
 "cells": [
  {
   "cell_type": "markdown",
   "metadata": {},
   "source": [
    "# 반복문"
   ]
  },
  {
   "cell_type": "markdown",
   "metadata": {},
   "source": [
    "## 2739"
   ]
  },
  {
   "cell_type": "code",
   "execution_count": 5,
   "metadata": {},
   "outputs": [
    {
     "name": "stdout",
     "output_type": "stream",
     "text": [
      "6\n",
      "6 * 1 = 6\n",
      "6 * 2 = 12\n",
      "6 * 3 = 18\n",
      "6 * 4 = 24\n",
      "6 * 5 = 30\n",
      "6 * 6 = 36\n",
      "6 * 7 = 42\n",
      "6 * 8 = 48\n",
      "6 * 9 = 54\n"
     ]
    }
   ],
   "source": [
    "N = int(input())\n",
    "\n",
    "for i in range(1,10):\n",
    "    print('{0} * {1} = {2}'.format(N,i,N*i))"
   ]
  },
  {
   "cell_type": "code",
   "execution_count": 6,
   "metadata": {},
   "outputs": [
    {
     "name": "stdout",
     "output_type": "stream",
     "text": [
      "6 * 1 = 6\n",
      "6 * 2 = 12\n",
      "6 * 3 = 18\n",
      "6 * 4 = 24\n",
      "6 * 5 = 30\n",
      "6 * 6 = 36\n",
      "6 * 7 = 42\n",
      "6 * 8 = 48\n",
      "6 * 9 = 54\n"
     ]
    }
   ],
   "source": [
    "for i in range(1,10):\n",
    "    print( N,\"*\",i,\"=\", N*i )\n",
    "    "
   ]
  },
  {
   "cell_type": "markdown",
   "metadata": {},
   "source": [
    "## 10950 - ( 입력 출력 입력 출력 )\n",
    "\n",
    "- 반복문 안에서 입력 후 바로 출력"
   ]
  },
  {
   "cell_type": "code",
   "execution_count": 7,
   "metadata": {},
   "outputs": [
    {
     "name": "stdout",
     "output_type": "stream",
     "text": [
      "3 5\n",
      "8\n",
      "2 4\n",
      "6\n",
      "1 0\n",
      "1\n"
     ]
    }
   ],
   "source": [
    "for i in range(3):\n",
    "    \n",
    "    A,B = map(int,input().split())\n",
    "    \n",
    "    print(A+B)"
   ]
  },
  {
   "cell_type": "markdown",
   "metadata": {},
   "source": [
    "## 10950  - ( 입력 다하고 출력 )\n",
    "\n",
    "- 입력 반복문 - 리스트에 값 저장 후\n",
    "\n",
    "- 출력 반복문 작성"
   ]
  },
  {
   "cell_type": "code",
   "execution_count": 8,
   "metadata": {},
   "outputs": [
    {
     "name": "stdout",
     "output_type": "stream",
     "text": [
      "3 5\n",
      "2 4\n",
      "1 0\n",
      "8\n",
      "6\n",
      "1\n"
     ]
    }
   ],
   "source": [
    "lst_sum = []\n",
    "\n",
    "for i in range(3):\n",
    "    \n",
    "    A,B = map(int,input().split())\n",
    "    \n",
    "    lst_sum.append(A+B)\n",
    "    \n",
    "for i in lst_sum:\n",
    "    print(i)\n"
   ]
  },
  {
   "cell_type": "markdown",
   "metadata": {},
   "source": [
    "## 8393 - `for i in range(0,n+1)` \n",
    "\n",
    "- range value"
   ]
  },
  {
   "cell_type": "code",
   "execution_count": 10,
   "metadata": {},
   "outputs": [
    {
     "name": "stdout",
     "output_type": "stream",
     "text": [
      "10\n",
      "55\n"
     ]
    }
   ],
   "source": [
    "sum = 0\n",
    "\n",
    "n = int(input())\n",
    "\n",
    "for i in range(1,n+1):\n",
    "    sum+=i\n",
    "\n",
    "print(sum)"
   ]
  },
  {
   "cell_type": "markdown",
   "metadata": {},
   "source": [
    "## 8393 - `for i in range(N)` \n",
    "\n",
    "- for N\n"
   ]
  },
  {
   "cell_type": "code",
   "execution_count": 11,
   "metadata": {},
   "outputs": [
    {
     "name": "stdout",
     "output_type": "stream",
     "text": [
      "hello\n",
      "hello\n",
      "hello\n"
     ]
    }
   ],
   "source": [
    "N = 3\n",
    "for i in range(3):\n",
    "    print('hello')"
   ]
  },
  {
   "cell_type": "markdown",
   "metadata": {},
   "source": [
    "## 2742 - `range(start, stop, step)`\n",
    "\n",
    "- stop 까지 안감"
   ]
  },
  {
   "cell_type": "code",
   "execution_count": 22,
   "metadata": {},
   "outputs": [
    {
     "name": "stdout",
     "output_type": "stream",
     "text": [
      "10\n",
      "_______________\n",
      "10\n",
      "9\n",
      "8\n",
      "7\n",
      "6\n",
      "5\n",
      "4\n",
      "3\n",
      "2\n",
      "1\n",
      "_______________\n",
      "10\n",
      "8\n",
      "6\n",
      "4\n",
      "2\n",
      "_______________\n",
      "10\n",
      "7\n",
      "4\n",
      "1\n"
     ]
    }
   ],
   "source": [
    "# n = int(sys.stdin.readline())\n",
    "\n",
    "n = int(input())\n",
    "\n",
    "print('_'*15)\n",
    "\n",
    "\n",
    "for i in range(n,0,-1):  \n",
    "    print(i)\n",
    "\n",
    "print('_'*15)\n",
    "\n",
    "\n",
    "    \n",
    "for i in range(n,0,-2):  \n",
    "    print(i)\n",
    "    \n",
    "print('_'*15)\n",
    "\n",
    "\n",
    "   \n",
    "for i in range(n,0,-3):  \n",
    "    print(i)\n",
    "    \n",
    "# -1 : 10 9 8 7 6 5 4 3 2 1 > 0 stop \n",
    "# -2 : 10 8 6 4 2 > 0 stop\n",
    "# -3 : 10 7 4 1 > 0 stop"
   ]
  },
  {
   "cell_type": "markdown",
   "metadata": {},
   "source": [
    "---"
   ]
  },
  {
   "cell_type": "markdown",
   "metadata": {},
   "source": [
    "## 2741 - `for i in range(1,n)` 범위"
   ]
  },
  {
   "cell_type": "code",
   "execution_count": 14,
   "metadata": {},
   "outputs": [
    {
     "name": "stdout",
     "output_type": "stream",
     "text": [
      "10\n",
      "1\n",
      "2\n",
      "3\n",
      "4\n",
      "5\n",
      "6\n",
      "7\n",
      "8\n",
      "9\n",
      "10\n"
     ]
    }
   ],
   "source": [
    "import sys\n",
    "\n",
    "n = int(input())\n",
    "# n = int(sys.stdin.readline())\n",
    "\n",
    "for i in range(1,n+1):\n",
    "    print(i)"
   ]
  },
  {
   "cell_type": "markdown",
   "metadata": {},
   "source": [
    "## 11021 - `for i in range(N)` 횟수"
   ]
  },
  {
   "cell_type": "code",
   "execution_count": 13,
   "metadata": {},
   "outputs": [
    {
     "name": "stdout",
     "output_type": "stream",
     "text": [
      "3\n",
      "10 10\n",
      "Case #1: 20\n",
      "20 20\n",
      "Case #2: 40\n",
      "40 5\n",
      "Case #3: 45\n"
     ]
    }
   ],
   "source": [
    "N = int(input()) \n",
    "\n",
    "for i in range(N):\n",
    "    \n",
    "    A,B = map(int, input().split())\n",
    "    \n",
    "    print('Case #{0}: {1}'.format(i+1,A+B))"
   ]
  },
  {
   "cell_type": "code",
   "execution_count": null,
   "metadata": {},
   "outputs": [],
   "source": [
    "import sys\n",
    "\n",
    "T = int(input()) \n",
    "\n",
    "for i in range(1,T+1):\n",
    "    A,B = map(int, sys.stdin.readline().split())\n",
    "    print('Case #{0}: {1}'.format(i,A+B))"
   ]
  },
  {
   "cell_type": "markdown",
   "metadata": {},
   "source": [
    "---"
   ]
  },
  {
   "cell_type": "markdown",
   "metadata": {},
   "source": [
    "## 11022 - `for i in range(N)` 횟수"
   ]
  },
  {
   "cell_type": "code",
   "execution_count": 15,
   "metadata": {},
   "outputs": [
    {
     "name": "stdout",
     "output_type": "stream",
     "text": [
      "3\n",
      "10 20\n",
      "Case #1: 10 + 20 = 30\n",
      "40 18\n",
      "Case #2: 40 + 18 = 58\n",
      "28 19\n",
      "Case #3: 28 + 19 = 47\n"
     ]
    }
   ],
   "source": [
    "N = int(input())\n",
    "\n",
    "for i in range(N):\n",
    "    \n",
    "    A,B = map(int, input().split())\n",
    "    \n",
    "    print('Case #{0}: {1} + {2} = {3}'.format(i+1,A,B,A+B))"
   ]
  },
  {
   "cell_type": "code",
   "execution_count": null,
   "metadata": {},
   "outputs": [],
   "source": [
    "import sys\n",
    "\n",
    "T = int(input())\n",
    "\n",
    "for i in range(1,T+1):\n",
    "    A,B = map(int, sys.stdin.readline().split())\n",
    "    print('Case #{0}: {1} + {2} = {3}'.format(i,A,B,A+B))"
   ]
  },
  {
   "cell_type": "markdown",
   "metadata": {},
   "source": [
    "---"
   ]
  },
  {
   "cell_type": "markdown",
   "metadata": {},
   "source": [
    "## 2438"
   ]
  },
  {
   "cell_type": "code",
   "execution_count": 50,
   "metadata": {},
   "outputs": [
    {
     "name": "stdout",
     "output_type": "stream",
     "text": [
      "3\n",
      "*\n",
      "**\n",
      "***\n"
     ]
    }
   ],
   "source": [
    "N = int(input())\n",
    "\n",
    "for i in range(1,N+1):\n",
    "    print(\"*\"*i)"
   ]
  },
  {
   "cell_type": "markdown",
   "metadata": {},
   "source": [
    "## 2439\n",
    "\n",
    "- 공백, 별의 개수"
   ]
  },
  {
   "cell_type": "code",
   "execution_count": 16,
   "metadata": {
    "scrolled": true
   },
   "outputs": [
    {
     "name": "stdout",
     "output_type": "stream",
     "text": [
      "4\n",
      "   *\n",
      "  **\n",
      " ***\n",
      "****\n"
     ]
    }
   ],
   "source": [
    "N = int(input())\n",
    "\n",
    "for i in range(N,0,-1):\n",
    "    \n",
    "    star = N - (i - 1)\n",
    "    #print(\" \"*(i-1),\"*\"*star)\n",
    "    \n",
    "    \n",
    "    print('{0}{1}'.format(\" \"*(i-1),\"*\"*star))"
   ]
  },
  {
   "cell_type": "code",
   "execution_count": 17,
   "metadata": {},
   "outputs": [
    {
     "name": "stdout",
     "output_type": "stream",
     "text": [
      "4\n",
      "   *\n",
      "  **\n",
      " ***\n",
      "****\n"
     ]
    }
   ],
   "source": [
    "# print (,) = ' ' 이므로 , sep='' \n",
    "\n",
    "N = int(input())\n",
    "\n",
    "for i in range(N,0,-1):\n",
    "    star = N - i + 1\n",
    "    print(\" \"*(i-1),\"*\"*star,sep='')"
   ]
  },
  {
   "cell_type": "markdown",
   "metadata": {},
   "source": [
    "---"
   ]
  },
  {
   "cell_type": "markdown",
   "metadata": {},
   "source": [
    "## 10871-  `list(map(int,input().split()))`\n",
    "\n",
    "\n",
    "- 공백 단위로 입력 - 정수형 변환 - 리스트로 반환\n",
    "\n",
    "- 공백 단위 출력 이랑 리스트 출력은 다르다.\n",
    "\n",
    "- `print end=\" \"`\n",
    "\n",
    "- 입력 개수 제한이 없음\n"
   ]
  },
  {
   "cell_type": "markdown",
   "metadata": {},
   "source": [
    "### 문제\n",
    "정수 N개로 이루어진 수열 A와 정수 X가 주어진다. 이때, A에서 X보다 작은 수를 모두 출력하는 프로그램을 작성하시오.\n",
    "\n",
    "### 입력\n",
    "첫째 줄에 N과 X가 주어진다. (1 ≤ N, X ≤ 10,000)\n",
    "\n",
    "둘째 줄에 수열 A를 이루는 정수 N개가 주어진다. 주어지는 정수는 모두 1보다 크거나 같고, 10,000보다 작거나 같은 정수이다.\n",
    "\n",
    "### 출력\n",
    "X보다 작은 수를 입력받은 순서대로 공백으로 구분해 출력한다. X보다 작은 수는 적어도 하나 존재한다."
   ]
  },
  {
   "cell_type": "code",
   "execution_count": 26,
   "metadata": {},
   "outputs": [
    {
     "name": "stdout",
     "output_type": "stream",
     "text": [
      "10 5\n",
      "1 10 4 9 2 3 8 5 7 6\n",
      "1 4 2 3 "
     ]
    }
   ],
   "source": [
    "N,X = map(int,input().split())\n",
    "\n",
    "\n",
    "lst = list(map(int,input().split()))\n",
    "\n",
    "\n",
    "\n",
    "# 리스트 일자로 출력\n",
    "\n",
    "for i in lst:\n",
    "    if i < X:\n",
    "        print(i, end=\" \")\n",
    "        "
   ]
  },
  {
   "cell_type": "code",
   "execution_count": 27,
   "metadata": {},
   "outputs": [
    {
     "name": "stdout",
     "output_type": "stream",
     "text": [
      "1 4 2 3 "
     ]
    }
   ],
   "source": [
    "# 리스트 일자로 출력\n",
    "\n",
    "\n",
    "for i in range(len(lst)):\n",
    "    if lst[i] < X:\n",
    "        print(lst[i], end=\" \")"
   ]
  },
  {
   "cell_type": "code",
   "execution_count": 30,
   "metadata": {},
   "outputs": [
    {
     "name": "stdout",
     "output_type": "stream",
     "text": [
      "[1, 4, 2, 3]\n",
      "1 4 2 3 "
     ]
    }
   ],
   "source": [
    "# 빈 리스트에 담은 후 출력\n",
    "# 리스트 출력 != 일자 공백 출력 다름\n",
    "\n",
    "lst_out = []\n",
    "\n",
    "for i in range(len(lst)):\n",
    "    if lst[i] < X:\n",
    "        lst_out.append(lst[i])\n",
    "\n",
    "\n",
    "print(lst_out)\n",
    "\n",
    "for i in lst_out:\n",
    "    print(i, end = ' ')"
   ]
  }
 ],
 "metadata": {
  "hide_input": false,
  "kernelspec": {
   "display_name": "Python 3",
   "language": "python",
   "name": "python3"
  },
  "language_info": {
   "codemirror_mode": {
    "name": "ipython",
    "version": 3
   },
   "file_extension": ".py",
   "mimetype": "text/x-python",
   "name": "python",
   "nbconvert_exporter": "python",
   "pygments_lexer": "ipython3",
   "version": "3.8.5"
  },
  "toc": {
   "base_numbering": 1,
   "nav_menu": {},
   "number_sections": true,
   "sideBar": true,
   "skip_h1_title": false,
   "title_cell": "Table of Contents",
   "title_sidebar": "Contents",
   "toc_cell": false,
   "toc_position": {},
   "toc_section_display": true,
   "toc_window_display": true
  }
 },
 "nbformat": 4,
 "nbformat_minor": 4
}
