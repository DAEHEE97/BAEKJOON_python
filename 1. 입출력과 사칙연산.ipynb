{
 "cells": [
  {
   "cell_type": "markdown",
   "metadata": {},
   "source": [
    "#  입출력과 사칙연산"
   ]
  },
  {
   "cell_type": "markdown",
   "metadata": {},
   "source": [
    "## 2557"
   ]
  },
  {
   "cell_type": "code",
   "execution_count": 1,
   "metadata": {},
   "outputs": [
    {
     "name": "stdout",
     "output_type": "stream",
     "text": [
      "Hello World!\n"
     ]
    }
   ],
   "source": [
    "print('Hello World!')"
   ]
  },
  {
   "cell_type": "markdown",
   "metadata": {},
   "source": [
    "### `print`  \n",
    "- default \\n"
   ]
  },
  {
   "cell_type": "code",
   "execution_count": 4,
   "metadata": {},
   "outputs": [
    {
     "name": "stdout",
     "output_type": "stream",
     "text": [
      "string1\n",
      "string2\n"
     ]
    }
   ],
   "source": [
    "print('string1')\n",
    "print('string2')"
   ]
  },
  {
   "cell_type": "markdown",
   "metadata": {},
   "source": [
    "### `print end =`"
   ]
  },
  {
   "cell_type": "code",
   "execution_count": 12,
   "metadata": {},
   "outputs": [
    {
     "name": "stdout",
     "output_type": "stream",
     "text": [
      "string1 string2\n"
     ]
    }
   ],
   "source": [
    "print('string1',end= ' ')\n",
    "print('string2')"
   ]
  },
  {
   "cell_type": "markdown",
   "metadata": {},
   "source": [
    "### `print sep =`\n",
    "\n",
    "- print 변수 2개 이상\n",
    "- end 는 당연히 \\n"
   ]
  },
  {
   "cell_type": "code",
   "execution_count": 9,
   "metadata": {},
   "outputs": [
    {
     "name": "stdout",
     "output_type": "stream",
     "text": [
      "string1string2string3\n",
      "-------------\n",
      "string1 string2 string3\n",
      "-------------\n",
      "string1\n",
      "string2\n",
      "string3\n"
     ]
    }
   ],
   "source": [
    "print('string1', 'string2','string3', sep='')     # 문자열 sep에 빈 문자열을 지정\n",
    "\n",
    "print('-------------')\n",
    "\n",
    "print('string1', 'string2','string3', sep=' ')   # 문자열 sep에 공백 문자열을 지정\n",
    "\n",
    "print('-------------')\n",
    "\n",
    "print('string1', 'string2','string3',sep='\\n')"
   ]
  },
  {
   "cell_type": "markdown",
   "metadata": {},
   "source": [
    "### `print ( '{0} {1} '.format( , ) )`"
   ]
  },
  {
   "cell_type": "code",
   "execution_count": 11,
   "metadata": {},
   "outputs": [
    {
     "name": "stdout",
     "output_type": "stream",
     "text": [
      "string1, string2, string3\n"
     ]
    }
   ],
   "source": [
    "print('{0}, {1}, {2}'.format('string1', 'string2','string3'))"
   ]
  },
  {
   "cell_type": "markdown",
   "metadata": {},
   "source": [
    "---"
   ]
  },
  {
   "cell_type": "markdown",
   "metadata": {},
   "source": [
    "## 1000\n",
    "\n",
    "- `input().split()`: 공백 분리 문자열 입력\n",
    "\n",
    "\n",
    "- `input().split(',')` : , 분리 문자열 입력\n",
    "\n",
    "\n",
    "- `map(int, input().split()` : map에 int와 input().split()을 넣으면 split의 결과를 모두 int로 변환해줍니다\n",
    "\n"
   ]
  },
  {
   "cell_type": "code",
   "execution_count": 2,
   "metadata": {},
   "outputs": [
    {
     "name": "stdout",
     "output_type": "stream",
     "text": [
      "1 2\n",
      "3\n"
     ]
    }
   ],
   "source": [
    "n1, n2 = map(int, input().split())\n",
    "print(n1 + n2)"
   ]
  },
  {
   "cell_type": "markdown",
   "metadata": {},
   "source": [
    "### n1, n2 = input().split()    \n",
    "\n",
    "n1 = int(n1)    \n",
    "n2 = int(n2)  \n",
    "\n",
    "print(n1 + n2)"
   ]
  },
  {
   "cell_type": "markdown",
   "metadata": {},
   "source": [
    "## 1000 - `input().split(',')`"
   ]
  },
  {
   "cell_type": "code",
   "execution_count": 3,
   "metadata": {},
   "outputs": [
    {
     "name": "stdout",
     "output_type": "stream",
     "text": [
      "10,3\n",
      "13\n"
     ]
    }
   ],
   "source": [
    "# 입력받은 값을 콤마를 기준으로 분리\n",
    "\n",
    "n1, n2 = map(int, input().split(',')) \n",
    "\n",
    "print(n1 + n2)"
   ]
  },
  {
   "cell_type": "markdown",
   "metadata": {},
   "source": [
    "## 10430\n",
    "\n",
    "- 공백 기준 분리"
   ]
  },
  {
   "cell_type": "code",
   "execution_count": 6,
   "metadata": {},
   "outputs": [
    {
     "name": "stdout",
     "output_type": "stream",
     "text": [
      "5 8 4\n",
      "1\n",
      "1\n",
      "0\n",
      "0\n"
     ]
    }
   ],
   "source": [
    "A, B, C = map(int,input().split())\n",
    "\n",
    "print(int((A+B)%C))\n",
    "\n",
    "print(int((int((A%C)) + int((B%C)))%C))\n",
    "\n",
    "print(int((A*B)%C))\n",
    "\n",
    "print(int((int((A%C)) * int((B%C)))%C))\n"
   ]
  },
  {
   "cell_type": "markdown",
   "metadata": {},
   "source": [
    "## 10869 사칙연산\n",
    "\n",
    "- 나눗셈\n",
    "\n",
    "- 몫 \n",
    "\n",
    "- 나머지"
   ]
  },
  {
   "cell_type": "code",
   "execution_count": 7,
   "metadata": {},
   "outputs": [
    {
     "name": "stdout",
     "output_type": "stream",
     "text": [
      "10 3\n",
      "3.3333333333333335\n",
      "3\n",
      "1\n"
     ]
    }
   ],
   "source": [
    "A, B = map(int, input().split())\n",
    "\n",
    "\n",
    "print(A / B) \n",
    "\n",
    "print(A // B)\n",
    "\n",
    "print(A % B)"
   ]
  },
  {
   "cell_type": "markdown",
   "metadata": {},
   "source": [
    "---"
   ]
  },
  {
   "cell_type": "markdown",
   "metadata": {},
   "source": [
    "## `divmod( , )` - (몫, 나머지) 반환 , 자릿수 분리"
   ]
  },
  {
   "cell_type": "code",
   "execution_count": 8,
   "metadata": {},
   "outputs": [
    {
     "name": "stdout",
     "output_type": "stream",
     "text": [
      "3 1\n"
     ]
    }
   ],
   "source": [
    "a,b = divmod(10,3)\n",
    "print(a,b)"
   ]
  },
  {
   "cell_type": "markdown",
   "metadata": {},
   "source": [
    "## 2588 -1\n",
    "\n",
    "- `int()` 형태 변환\n",
    "\n",
    "- `input()` 문자열 반환 후, **배열 index 접근하여 처리** \n"
   ]
  },
  {
   "cell_type": "code",
   "execution_count": 9,
   "metadata": {},
   "outputs": [
    {
     "name": "stdout",
     "output_type": "stream",
     "text": [
      "472\n",
      "385\n",
      "2360\n",
      "3776\n",
      "1416\n",
      "181720\n"
     ]
    }
   ],
   "source": [
    "n1 = int(input())\n",
    "\n",
    "n2 = input()\n",
    "\n",
    "\n",
    "print(n1 * int(n2[2]))\n",
    "\n",
    "print(n1 * int(n2[1]))\n",
    "\n",
    "print(n1 * int(n2[0]))\n",
    "\n",
    "print(n1 * int(n2))"
   ]
  },
  {
   "cell_type": "code",
   "execution_count": 10,
   "metadata": {},
   "outputs": [
    {
     "name": "stdout",
     "output_type": "stream",
     "text": [
      "2\n",
      "1\n",
      "0\n"
     ]
    }
   ],
   "source": [
    "for i in range(2,-1,-1):\n",
    "    print(i)"
   ]
  },
  {
   "cell_type": "markdown",
   "metadata": {},
   "source": [
    "## 2588 - 2\n",
    "\n",
    "- `divmod()` 각 자리수 분리"
   ]
  },
  {
   "cell_type": "code",
   "execution_count": 11,
   "metadata": {},
   "outputs": [
    {
     "name": "stdout",
     "output_type": "stream",
     "text": [
      "385\n",
      "38 5\n",
      "3 8\n",
      "3 8 5\n"
     ]
    }
   ],
   "source": [
    "N = int(input())\n",
    "\n",
    "B10,B0 = divmod(N,10) # 분리 \n",
    "print(B10,B0)\n",
    "\n",
    "B2,B1 = divmod(B10,10) # 분리\n",
    "print(B2,B1)\n",
    "\n",
    "print(B2,B1,B0)\n"
   ]
  },
  {
   "cell_type": "markdown",
   "metadata": {},
   "source": [
    "---"
   ]
  },
  {
   "cell_type": "markdown",
   "metadata": {},
   "source": [
    "## 10926\n",
    "\n",
    "- `input()` 문자열, 문자열 덧셈"
   ]
  },
  {
   "cell_type": "code",
   "execution_count": 12,
   "metadata": {},
   "outputs": [
    {
     "name": "stdout",
     "output_type": "stream",
     "text": [
      "joonas\n",
      "joonas??!\n"
     ]
    }
   ],
   "source": [
    "name = input()\n",
    "\n",
    "print(name+\"??!\")"
   ]
  },
  {
   "cell_type": "markdown",
   "metadata": {},
   "source": [
    "## 18108"
   ]
  },
  {
   "cell_type": "code",
   "execution_count": 14,
   "metadata": {},
   "outputs": [
    {
     "name": "stdout",
     "output_type": "stream",
     "text": [
      "1000\n",
      "457\n"
     ]
    }
   ],
   "source": [
    "y = int(input())\n",
    "print(y-543)"
   ]
  },
  {
   "cell_type": "markdown",
   "metadata": {},
   "source": [
    "## 10718"
   ]
  },
  {
   "cell_type": "code",
   "execution_count": 15,
   "metadata": {},
   "outputs": [
    {
     "name": "stdout",
     "output_type": "stream",
     "text": [
      "강한친구 대한육군\n",
      "강한친구 대한육군\n"
     ]
    }
   ],
   "source": [
    "print(\"강한친구 대한육군\")\n",
    "print(\"강한친구 대한육군\")"
   ]
  },
  {
   "cell_type": "markdown",
   "metadata": {},
   "source": [
    "## 10171"
   ]
  },
  {
   "cell_type": "code",
   "execution_count": 16,
   "metadata": {},
   "outputs": [
    {
     "name": "stdout",
     "output_type": "stream",
     "text": [
      "\\    /\\\n",
      " )  ( ')\n",
      "(  /  )\n",
      " \\(__)|\n"
     ]
    }
   ],
   "source": [
    "print('\\\\    /\\\\')\n",
    "print(' )  ( \\')')\n",
    "print('(  /  )')\n",
    "print(' \\\\(__)|')"
   ]
  },
  {
   "cell_type": "markdown",
   "metadata": {},
   "source": [
    "## 10172"
   ]
  },
  {
   "cell_type": "code",
   "execution_count": 17,
   "metadata": {},
   "outputs": [
    {
     "name": "stdout",
     "output_type": "stream",
     "text": [
      "|\\_/|\n",
      "|q p|   /}\n",
      "( 0 )\"\"\"\\\n",
      "|\"^\"`    |\n",
      "||_/=\\\\__|\n"
     ]
    }
   ],
   "source": [
    "print('|\\\\_/|')\n",
    "print('|q p|   /}')\n",
    "print('( 0 )\"\"\"\\\\')\n",
    "print('|\"^\"`    |')\n",
    "print('||_/=\\\\\\__|')"
   ]
  }
 ],
 "metadata": {
  "hide_input": false,
  "kernelspec": {
   "display_name": "Python 3",
   "language": "python",
   "name": "python3"
  },
  "language_info": {
   "codemirror_mode": {
    "name": "ipython",
    "version": 3
   },
   "file_extension": ".py",
   "mimetype": "text/x-python",
   "name": "python",
   "nbconvert_exporter": "python",
   "pygments_lexer": "ipython3",
   "version": "3.8.5"
  },
  "toc": {
   "base_numbering": 1,
   "nav_menu": {},
   "number_sections": true,
   "sideBar": true,
   "skip_h1_title": false,
   "title_cell": "Table of Contents",
   "title_sidebar": "Contents",
   "toc_cell": false,
   "toc_position": {},
   "toc_section_display": true,
   "toc_window_display": true
  }
 },
 "nbformat": 4,
 "nbformat_minor": 4
}
