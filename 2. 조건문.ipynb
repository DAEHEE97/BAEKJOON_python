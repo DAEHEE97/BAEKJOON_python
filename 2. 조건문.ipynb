{
 "cells": [
  {
   "cell_type": "markdown",
   "metadata": {},
   "source": [
    "# 조건문"
   ]
  },
  {
   "cell_type": "markdown",
   "metadata": {},
   "source": [
    "## 1330\n",
    "\n",
    "- `if` `elif` `else`"
   ]
  },
  {
   "cell_type": "code",
   "execution_count": 1,
   "metadata": {},
   "outputs": [
    {
     "name": "stdout",
     "output_type": "stream",
     "text": [
      "10 5\n",
      ">\n"
     ]
    }
   ],
   "source": [
    "A,B = map(int,input().split())\n",
    "\n",
    "if A > B :\n",
    "    print(\">\")\n",
    "elif A < B :\n",
    "    print(\"<\")\n",
    "else : print(\"==\")"
   ]
  },
  {
   "cell_type": "markdown",
   "metadata": {},
   "source": [
    "## 9498"
   ]
  },
  {
   "cell_type": "code",
   "execution_count": 2,
   "metadata": {},
   "outputs": [
    {
     "name": "stdout",
     "output_type": "stream",
     "text": [
      "88\n",
      "B\n"
     ]
    }
   ],
   "source": [
    "score = int(input())\n",
    "\n",
    "if score >= 90:\n",
    "    print(\"A\")\n",
    "elif score >= 80:\n",
    "    print(\"B\")\n",
    "elif score >= 70:\n",
    "    print(\"C\")\n",
    "elif score >= 60:\n",
    "    print(\"D\")\n",
    "else: print(\"F\")\n",
    "    "
   ]
  },
  {
   "cell_type": "markdown",
   "metadata": {},
   "source": [
    "## 2753 - 배수\n",
    "\n",
    "- `100 % 5 == 0` 배수\n",
    "\n",
    "- `and` \n",
    "\n",
    "- `or`\n",
    "\n",
    "\n",
    "\n",
    "- 윤년은 연도가 4의 배수이면서, 100의 배수가 아닐 때 또는 400의 배수일 때이다.\n",
    "\n",
    "- 윤년이면 1, 아니면 0을 출력\n",
    "\n"
   ]
  },
  {
   "cell_type": "code",
   "execution_count": 1,
   "metadata": {},
   "outputs": [
    {
     "name": "stdout",
     "output_type": "stream",
     "text": [
      "2000\n",
      "1\n"
     ]
    }
   ],
   "source": [
    "year = int(input())\n",
    "\n",
    "if year % 4 == 0 and year % 100 != 0 or year % 400 == 0:\n",
    "    print(1)\n",
    "    \n",
    "else : print(0)\n"
   ]
  },
  {
   "cell_type": "markdown",
   "metadata": {},
   "source": [
    "## 14681\n",
    "\n",
    "- 점(9,-13) 은 좌표계 4 사분면"
   ]
  },
  {
   "cell_type": "code",
   "execution_count": 3,
   "metadata": {},
   "outputs": [
    {
     "name": "stdout",
     "output_type": "stream",
     "text": [
      "9\n",
      "-13\n",
      "4\n"
     ]
    }
   ],
   "source": [
    "x = int(input())\n",
    "y = int(input())\n",
    "\n",
    "\n",
    "if x > 0 and y > 0:\n",
    "    print(1)\n",
    "elif x > 0 and y < 0:\n",
    "    print(4)\n",
    "elif x < 0 and y > 0:\n",
    "    print(2)\n",
    "elif x < 0 and y < 0:\n",
    "    print(3)\n"
   ]
  },
  {
   "cell_type": "markdown",
   "metadata": {},
   "source": [
    "---"
   ]
  },
  {
   "cell_type": "markdown",
   "metadata": {},
   "source": [
    "## 2884 - 45분 일찍 알람 설정하기\n",
    "\n",
    "### 입력\n",
    "\n",
    "첫째 줄에 두 정수 H와 M이 주어진다. \n",
    "\n",
    "(0 ≤ H ≤ 23, 0 ≤ M ≤ 59) 그리고 이것은 현재 상근이가 설정한 놓은 알람 시간 H시 M분을 의미한다.\n",
    "\n",
    "입력 시간은 24시간 표현을 사용한다. \n",
    "\n",
    "24시간 표현에서 하루의 시작은 0:0(자정)이고, 끝은 23:59(다음날 자정 1분 전)이다. \n",
    "\n",
    "시간을 나타낼 때, 불필요한 0은 사용하지 않는다.\n",
    "\n",
    "### 출력\n",
    "\n",
    "첫째 줄에 상근이가 창영이의 방법을 사용할 때, 설정해야 하는 알람 시간을 출력한다. (입력과 같은 형태로 출력하면 된다.)\n",
    "\n",
    "\n",
    "### Memo\n",
    "\n",
    "- 10시 45분 이면 - 하면 끝, 그러나 다른 경우 가 있다.\n",
    "\n",
    "- 10시 15분 경우\n",
    "\n",
    "- 00시 45분 경우\n",
    "\n",
    "- 00시 15분 경우 \n",
    "\n",
    "\n",
    "- 분을 마이너스 하였을때, 음수라면, 시간 한시간 전으로 돌려야 합니다.\n",
    "\n",
    "- 00시 24시 개념이므로, 00시 에서 시간 한시간 전으로 돌릴 시, 23시 로 넘어가야합니다. -1이 아닌 "
   ]
  },
  {
   "cell_type": "code",
   "execution_count": 11,
   "metadata": {
    "scrolled": true
   },
   "outputs": [
    {
     "name": "stdout",
     "output_type": "stream",
     "text": [
      "10 10\n",
      "9 25\n"
     ]
    }
   ],
   "source": [
    "# hour = 24\n",
    "# minute = 60\n",
    "\n",
    "alarm = 45\n",
    "\n",
    "H, M = map(int,input().split())\n",
    "\n",
    "if (H != 0):\n",
    "    if (M >= alarm):\n",
    "        print(H , M-alarm)\n",
    "    else:\n",
    "        print( H-1, 60-(alarm-M) )\n",
    "else:\n",
    "    if (M >= alarm):\n",
    "        print(H, M-alarm)\n",
    "    else:\n",
    "        print(24-1, 60-(alarm-M) )\n",
    "    \n",
    "    \n"
   ]
  },
  {
   "cell_type": "markdown",
   "metadata": {},
   "source": [
    "---"
   ]
  },
  {
   "cell_type": "markdown",
   "metadata": {},
   "source": [
    "## 2525 - 초과 시간 처리\n",
    "\n",
    "### 입력\n",
    "\n",
    "첫째 줄에는 현재 시각이 나온다. \n",
    "\n",
    "현재 시각은 시 A (0 ≤ A ≤ 23) 와 분 B (0 ≤ B ≤ 59)가 정수로 빈칸을 사이에 두고 순서대로 주어진다. \n",
    "\n",
    "두 번째 줄에는 요리하는 데 필요한 시간 C (0 ≤ C ≤ 1,000)가 분 단위로 주어진다. \n",
    "\n",
    "### 출력\n",
    "\n",
    "첫째 줄에 종료되는 시각의 시와 분을 공백을 사이에 두고 출력한다. \n",
    "\n",
    "(단, 시는 0부터 23까지의 정수, 분은 0부터 59까지의 정수이다. 디지털 시계는 23시 59분에서 1분이 지나면 0시 0분이 된다.)\n",
    "\n",
    "### Memo\n",
    "\n"
   ]
  },
  {
   "cell_type": "code",
   "execution_count": 14,
   "metadata": {},
   "outputs": [
    {
     "name": "stdout",
     "output_type": "stream",
     "text": [
      "23 48\n",
      "25\n",
      "0 13\n"
     ]
    }
   ],
   "source": [
    "H, M = map(int,input().split())\n",
    "C = int(input())\n",
    "\n",
    "H = H + (C // 60) # 60분 초과 계산 후 hour\n",
    "M = M + (C % 60)  # 60분 초과 계산 후 minute \n",
    "\n",
    "\n",
    "# + 한 minute 가 60 초과시 minute > hour 승격, 나머지 hour 계산\n",
    "if M >= 60 : \n",
    "    H+=1\n",
    "    M-=60\n",
    "\n",
    "# 24:00     \n",
    "if H >= 24 :\n",
    "    H-=24\n",
    "\n",
    "print(H,M)"
   ]
  },
  {
   "cell_type": "markdown",
   "metadata": {},
   "source": [
    "## 2525 - 2 "
   ]
  },
  {
   "cell_type": "code",
   "execution_count": 10,
   "metadata": {},
   "outputs": [
    {
     "name": "stdout",
     "output_type": "stream",
     "text": [
      "13\n",
      "1 13\n"
     ]
    }
   ],
   "source": [
    "# hour, minute = map(int,input().split())\n",
    "cooking_minute = int(input())\n",
    "\n",
    "cooked_minute = minute + cooking_minute\n",
    "\n",
    "# + 한 minute 를 60분을 기준으로 hour, minute 분리\n",
    "# 73 > (1,13)\n",
    "\n",
    "Ch,Cm = divmod(cooked_minute,60)\n",
    "\n",
    "\n",
    "# + 한 hour 가 24:00 을 넘을 경우 처리\n",
    "if (hour+Ch >= 24):\n",
    "    \n",
    "    tmp,cooked_hour = divmod(hour+Ch,24)\n",
    "    print(cooked_hour,Cm)\n",
    "    \n",
    "else:\n",
    "    print(hour+Ch,Cm)\n",
    "    \n",
    "    "
   ]
  },
  {
   "cell_type": "markdown",
   "metadata": {},
   "source": [
    "## 2480 - 경우의 수\n",
    "\n",
    "\n",
    "같은 눈이 3개가 나오면 10,000원+(같은 눈)×1,000원의 상금을 받게 된다. \n",
    "\n",
    "같은 눈이 2개만 나오는 경우에는 1,000원+(같은 눈)×100원의 상금을 받게 된다. \n",
    "\n",
    "모두 다른 눈이 나오는 경우에는 (그 중 가장 큰 눈)×100원의 상금을 받게 된다.  \n",
    "\n",
    "\n",
    "### 입력\n",
    "\n",
    "첫째 줄에 3개의 눈이 빈칸을 사이에 두고 각각 주어진다. \n",
    "\n",
    "\n",
    "### 출력\n",
    "\n",
    "첫째 줄에 게임의 상금을 출력 한다.\n",
    "\n",
    "\n",
    "- 입력, case 분리"
   ]
  },
  {
   "cell_type": "code",
   "execution_count": 12,
   "metadata": {},
   "outputs": [
    {
     "name": "stdout",
     "output_type": "stream",
     "text": [
      "3 3 3\n",
      "13000\n"
     ]
    }
   ],
   "source": [
    "n1,n2,n3 = map(int,input().split())\n",
    "\n",
    "\n",
    "# 같은 눈이 3개\n",
    "if n1 == n2 == n3:\n",
    "    print(10000+1000*n1)\n",
    "\n",
    "# 같은 눈이 2개 인 경우 총 3가지\n",
    "elif(n1 == n2 != n3):\n",
    "    print(1000+100*n1)\n",
    "\n",
    "elif(n1 == n3 != n2):\n",
    "    print(1000+100*n1)\n",
    "    \n",
    "elif(n2 == n3 != n1):\n",
    "    print(1000+100*n2)\n",
    "\n",
    "# 모두 다른 경우\n",
    "else:\n",
    "    print(max(n1,n2,n3)*100)\n",
    "        "
   ]
  }
 ],
 "metadata": {
  "hide_input": false,
  "kernelspec": {
   "display_name": "Python 3",
   "language": "python",
   "name": "python3"
  },
  "language_info": {
   "codemirror_mode": {
    "name": "ipython",
    "version": 3
   },
   "file_extension": ".py",
   "mimetype": "text/x-python",
   "name": "python",
   "nbconvert_exporter": "python",
   "pygments_lexer": "ipython3",
   "version": "3.8.5"
  },
  "toc": {
   "base_numbering": 1,
   "nav_menu": {},
   "number_sections": true,
   "sideBar": true,
   "skip_h1_title": false,
   "title_cell": "Table of Contents",
   "title_sidebar": "Contents",
   "toc_cell": false,
   "toc_position": {},
   "toc_section_display": true,
   "toc_window_display": false
  }
 },
 "nbformat": 4,
 "nbformat_minor": 4
}
