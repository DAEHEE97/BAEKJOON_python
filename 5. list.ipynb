{
 "cells": [
  {
   "cell_type": "markdown",
   "metadata": {},
   "source": [
    "# list - 최소 최대"
   ]
  },
  {
   "cell_type": "markdown",
   "metadata": {},
   "source": [
    "## 10818\n",
    "\n",
    "- list 입력"
   ]
  },
  {
   "cell_type": "code",
   "execution_count": 2,
   "metadata": {},
   "outputs": [
    {
     "name": "stdout",
     "output_type": "stream",
     "text": [
      "3\n",
      "1 3 5 7 9\n",
      "1 9\n"
     ]
    }
   ],
   "source": [
    "import sys \n",
    "\n",
    "\n",
    "N = int(input()) \n",
    "\n",
    "lst = list(map(int, input().split()))\n",
    "\n",
    "print(min(lst),max(lst))\n"
   ]
  },
  {
   "cell_type": "code",
   "execution_count": null,
   "metadata": {},
   "outputs": [],
   "source": [
    "# N = int(sys.stdin.readline()) \n",
    "\n",
    "# lst = list(map(int,sys.stdin.readline().split()))"
   ]
  },
  {
   "cell_type": "markdown",
   "metadata": {},
   "source": [
    "## list 입력"
   ]
  },
  {
   "cell_type": "markdown",
   "metadata": {},
   "source": [
    "### 공백 기준 int 입력 > list로 변경"
   ]
  },
  {
   "cell_type": "code",
   "execution_count": 3,
   "metadata": {},
   "outputs": [
    {
     "name": "stdout",
     "output_type": "stream",
     "text": [
      "1 3 5 \n"
     ]
    },
    {
     "data": {
      "text/plain": [
       "[1, 3, 5]"
      ]
     },
     "execution_count": 3,
     "metadata": {},
     "output_type": "execute_result"
    }
   ],
   "source": [
    "lst = list(map(int,input().split()))\n",
    "lst\n",
    "# lst = list(map(int,sys.stdin.readline().split()))"
   ]
  },
  {
   "cell_type": "markdown",
   "metadata": {},
   "source": [
    "### Enter \\n 기준 int 입력 > list로 변경"
   ]
  },
  {
   "cell_type": "code",
   "execution_count": 4,
   "metadata": {},
   "outputs": [
    {
     "name": "stdout",
     "output_type": "stream",
     "text": [
      "1\n",
      "3\n",
      "5\n"
     ]
    },
    {
     "data": {
      "text/plain": [
       "[1, 3, 5]"
      ]
     },
     "execution_count": 4,
     "metadata": {},
     "output_type": "execute_result"
    }
   ],
   "source": [
    "lst = list( int(input()) for i in range(N))\n",
    "lst\n",
    "# lst = [int(sys.stdin.readline().strip()) for i in range(N)]"
   ]
  },
  {
   "cell_type": "markdown",
   "metadata": {},
   "source": [
    "## 문자열 입력"
   ]
  },
  {
   "cell_type": "code",
   "execution_count": 3,
   "metadata": {},
   "outputs": [
    {
     "name": "stdout",
     "output_type": "stream",
     "text": [
      "asd asd asd\n"
     ]
    },
    {
     "data": {
      "text/plain": [
       "['asd', 'asd', 'asd']"
      ]
     },
     "execution_count": 3,
     "metadata": {},
     "output_type": "execute_result"
    }
   ],
   "source": [
    "string = input().split()\n",
    "string"
   ]
  },
  {
   "cell_type": "markdown",
   "metadata": {},
   "source": [
    "### 공백 기준 int 입력 > 문자열 list로 변경"
   ]
  },
  {
   "cell_type": "code",
   "execution_count": 4,
   "metadata": {},
   "outputs": [
    {
     "name": "stdout",
     "output_type": "stream",
     "text": [
      "asd asd asd\n"
     ]
    },
    {
     "data": {
      "text/plain": [
       "['asd', 'asd', 'asd']"
      ]
     },
     "execution_count": 4,
     "metadata": {},
     "output_type": "execute_result"
    }
   ],
   "source": [
    "lst = list(input().split())\n",
    "lst"
   ]
  },
  {
   "cell_type": "markdown",
   "metadata": {},
   "source": [
    "### Enter \\n 기준 문자열 입력 > 문자열 list로 변경"
   ]
  },
  {
   "cell_type": "code",
   "execution_count": 6,
   "metadata": {},
   "outputs": [
    {
     "name": "stdout",
     "output_type": "stream",
     "text": [
      "asd\n",
      "asd\n",
      "asd\n"
     ]
    },
    {
     "data": {
      "text/plain": [
       "['asd', 'asd', 'asd']"
      ]
     },
     "execution_count": 6,
     "metadata": {},
     "output_type": "execute_result"
    }
   ],
   "source": [
    "lst = list(input() for i in range(3))\n",
    "lst\n",
    "\n",
    "# lst = list(sys.stdin.readline().strip() for i in range(N))"
   ]
  },
  {
   "cell_type": "markdown",
   "metadata": {},
   "source": [
    "###  공백 기준 분리 후 엔터 기준 분리"
   ]
  },
  {
   "cell_type": "code",
   "execution_count": 7,
   "metadata": {},
   "outputs": [
    {
     "name": "stdout",
     "output_type": "stream",
     "text": [
      "q w e\n",
      "a s d\n",
      "z x c\n"
     ]
    },
    {
     "data": {
      "text/plain": [
       "[['q', 'w', 'e'], ['a', 's', 'd'], ['z', 'x', 'c']]"
      ]
     },
     "execution_count": 7,
     "metadata": {},
     "output_type": "execute_result"
    }
   ],
   "source": [
    "lst1 = list( input().split() for i in range(N))\n",
    "lst1"
   ]
  },
  {
   "cell_type": "markdown",
   "metadata": {},
   "source": [
    "---"
   ]
  },
  {
   "cell_type": "markdown",
   "metadata": {},
   "source": [
    "## 2562 - `lst.index(max(lst)``\n",
    "\n",
    "- `max(lst)`\n",
    "\n",
    "- `lst.index(value)`\n",
    "\n",
    "\n",
    "\n",
    "### 입력\n",
    "첫째 줄부터 아홉 번째 줄까지 한 줄에 하나의 자연수가 주어진다. 주어지는 자연수는 100 보다 작다.\n",
    "\n",
    "### 출력\n",
    "첫째 줄에 최댓값을 출력하고, 둘째 줄에 최댓값이 몇 번째 수인지를 출력한다."
   ]
  },
  {
   "cell_type": "code",
   "execution_count": 10,
   "metadata": {},
   "outputs": [
    {
     "data": {
      "text/plain": [
       "6"
      ]
     },
     "execution_count": 10,
     "metadata": {},
     "output_type": "execute_result"
    }
   ],
   "source": [
    "lst.index(max(lst))"
   ]
  },
  {
   "cell_type": "code",
   "execution_count": 11,
   "metadata": {},
   "outputs": [
    {
     "name": "stdout",
     "output_type": "stream",
     "text": [
      "1\n",
      "2\n",
      "3\n",
      "5\n",
      "89\n",
      "4\n",
      "58\n",
      "354\n",
      "8\n",
      "354\n",
      "8\n"
     ]
    }
   ],
   "source": [
    "import sys\n",
    "\n",
    "lst = list(int(input()) for i in range(9))\n",
    "\n",
    "# lst = list( int(sys.stdin.readline().strip() for i in range(9)))\n",
    "\n",
    "\n",
    "print(max(lst))              # 최대 값\n",
    "\n",
    "print(lst.index(max(lst))+1) #  idx + 1 = 몇 번째 수 인지\n"
   ]
  },
  {
   "cell_type": "markdown",
   "metadata": {},
   "source": [
    "---"
   ]
  },
  {
   "cell_type": "markdown",
   "metadata": {},
   "source": [
    "## 2577 - 숫자 문자열 전환\n",
    "\n",
    "- `int()`\n",
    "\n",
    "- `str()`\n",
    "\n",
    "- 자리수 `len(str(ABC))`\n",
    "\n",
    "- `lst.count(V)`\n",
    "\n",
    "- `lst = [0 for i in range(10)]`\n",
    "\n",
    "\n",
    "### 문제\n",
    "\n",
    "세 개의 자연수 A, B, C가 주어질 때 A × B × C를 계산한 결과에 0부터 9까지 각각의 숫자가 몇 번씩 쓰였는지를 구하는 프로그램을 작성하시오.\n",
    "\n",
    "예를 들어 A = 150, B = 266, C = 427 이라면 A × B × C = 150 × 266 × 427 = 17037300 이 되고, 계산한 결과 17037300 에는 0이 3번, 1이 1번, 3이 2번, 7이 2번 쓰였다.\n",
    "\n",
    "### 입력\n",
    "\n",
    "첫째 줄에 A, 둘째 줄에 B, 셋째 줄에 C가 주어진다. \n",
    "\n",
    "A, B, C는 모두 100보다 크거나 같고, 1,000보다 작은 자연수이다.\n",
    "\n",
    "\n",
    "### 출력\n",
    "첫째 줄에는 A × B × C의 결과에 0 이 몇 번 쓰였는지 출력한다. \n",
    "\n",
    "마찬가지로 둘째 줄부터 열 번째 줄까지 A × B × C의 결과에 1부터 9까지의 숫자가 각각 몇 번 쓰였는지 차례로 한 줄에 하나씩 출력한다.\n"
   ]
  },
  {
   "cell_type": "markdown",
   "metadata": {},
   "source": [
    "## 2577 \n",
    "\n",
    "- 문자열 index 별로 하나씩 비교, 숫자랑 \n",
    "\n",
    "\n",
    "- 비교 시 숫자를 str 문자로 바꿔서 비교 \n",
    "\n",
    "\n",
    "- 빈 리스트에 idx 별로 count\n"
   ]
  },
  {
   "cell_type": "code",
   "execution_count": 73,
   "metadata": {},
   "outputs": [
    {
     "name": "stdout",
     "output_type": "stream",
     "text": [
      "150\n",
      "266\n",
      "427\n",
      "3\n",
      "1\n",
      "0\n",
      "2\n",
      "0\n",
      "0\n",
      "0\n",
      "2\n",
      "0\n",
      "0\n"
     ]
    }
   ],
   "source": [
    "lst = list( int(input()) for i in range(3))\n",
    "ABC = lst[0] * lst[1] * lst[2]\n",
    "\n",
    "ABC = str(ABC)\n",
    "\n",
    "lst_cnt = list(0 for i in range(10))\n",
    "\n",
    "\n",
    "# 숫자 하나씩 근데 문자열 index 0 하나씩 꺼내서 검사\n",
    "# 0 ~ 9 까지 돌면서 \n",
    "for i in ABC:\n",
    "    \n",
    "    for j in range(0,9+1):\n",
    "        \n",
    "        if (i == str(j)):\n",
    "            lst_cnt[int(i)] += 1\n",
    "\n",
    "            \n",
    "for i in lst_cnt:\n",
    "    print(i)\n"
   ]
  },
  {
   "cell_type": "code",
   "execution_count": 77,
   "metadata": {},
   "outputs": [
    {
     "name": "stdout",
     "output_type": "stream",
     "text": [
      "150\n",
      "266\n",
      "427\n",
      "3\n",
      "1\n",
      "0\n",
      "2\n",
      "0\n",
      "0\n",
      "0\n",
      "2\n",
      "0\n",
      "0\n"
     ]
    }
   ],
   "source": [
    "lst = list( int(input()) for i in range(3))\n",
    "ABC = lst[0] * lst[1] * lst[2]\n",
    "\n",
    "ABC = str(ABC)\n",
    "\n",
    "lst_cnt = list(0 for i in range(10))\n",
    "\n",
    "\n",
    "# 숫자 하나씩 근데 문자열 index 0 하나씩 꺼내서 검사\n",
    "# 0 ~ 9 까지 돌면서 \n",
    "for i in ABC:\n",
    "    i = int(i)\n",
    "    \n",
    "    for j in range(0,9+1):\n",
    "        \n",
    "        if (i == j):\n",
    "            lst_cnt[i] += 1\n",
    "\n",
    "            \n",
    "for i in lst_cnt:\n",
    "    print(i)\n",
    "\n"
   ]
  },
  {
   "cell_type": "markdown",
   "metadata": {},
   "source": [
    "## 2577 - `lst.count(V)`\n",
    "\n",
    "- 문자열 리스트(숫자) -> 자릿수 대로 숫자로 변환 - 하나씩 꺼내서 int()형 변환 후 lst.append()\n",
    "\n",
    "- `17037300` -> [1, 7, 0, 3, 7, 3, 0, 0]"
   ]
  },
  {
   "cell_type": "code",
   "execution_count": 66,
   "metadata": {},
   "outputs": [
    {
     "name": "stdout",
     "output_type": "stream",
     "text": [
      "150\n",
      "266\n",
      "427\n",
      "3\n",
      "1\n",
      "0\n",
      "2\n",
      "0\n",
      "0\n",
      "0\n",
      "2\n",
      "0\n",
      "0\n"
     ]
    }
   ],
   "source": [
    "lst = list( int(input()) for i in range(3))\n",
    "ABC = lst[0] * lst[1] * lst[2]\n",
    "\n",
    "ABC = str(ABC)\n",
    "\n",
    "lst_int = []\n",
    "\n",
    "for i in ABC:\n",
    "    lst_int.append(int(i))\n",
    "\n",
    "    \n",
    "for i in range(0,9+1):\n",
    "    print(lst_int.count(i))\n"
   ]
  },
  {
   "cell_type": "code",
   "execution_count": 71,
   "metadata": {},
   "outputs": [
    {
     "name": "stdout",
     "output_type": "stream",
     "text": [
      "150\n",
      "266\n",
      "427\n",
      "[1, 7, 0, 3, 7, 3, 0, 0]\n"
     ]
    }
   ],
   "source": [
    "lst = list( int(input()) for i in range(3))\n",
    "ABC = lst[0] * lst[1] * lst[2]\n",
    "\n",
    "ABC = str(ABC)\n",
    "\n",
    "lst_int = []\n",
    "\n",
    "for i in ABC:\n",
    "    lst_int.append(int(i))\n",
    "\n",
    "print(lst_int)"
   ]
  },
  {
   "cell_type": "markdown",
   "metadata": {},
   "source": [
    "## 2577 - `import re`"
   ]
  },
  {
   "cell_type": "code",
   "execution_count": 69,
   "metadata": {},
   "outputs": [
    {
     "name": "stdout",
     "output_type": "stream",
     "text": [
      "150\n",
      "266\n",
      "427\n",
      "3\n",
      "1\n",
      "0\n",
      "2\n",
      "0\n",
      "0\n",
      "0\n",
      "2\n",
      "0\n",
      "0\n"
     ]
    }
   ],
   "source": [
    "import sys\n",
    "import re\n",
    "\n",
    "lst = [int(input()) for i in range(3)]\n",
    "\n",
    "N = lst[0]*lst[1]*lst[2]\n",
    "\n",
    "string = str(N)\n",
    "string\n",
    "\n",
    "# 문자열 리스트\n",
    "numbers = re.findall(r'\\d', string)\n",
    "\n",
    "\n",
    "for i in range(10):\n",
    "    \n",
    "    cnt = 0\n",
    "    \n",
    "    for n in numbers:\n",
    "        if i == int(n) :\n",
    "            cnt+=1\n",
    "            \n",
    "    print(cnt)"
   ]
  },
  {
   "cell_type": "markdown",
   "metadata": {},
   "source": [
    "### re"
   ]
  },
  {
   "cell_type": "code",
   "execution_count": 72,
   "metadata": {},
   "outputs": [
    {
     "name": "stdout",
     "output_type": "stream",
     "text": [
      "['11', '22', '333']\n",
      "['1', '1', '2', '2', '3', '3', '3']\n"
     ]
    }
   ],
   "source": [
    "import re\n",
    "\n",
    "tmp_string = '11a22bb333'\n",
    "\n",
    "# 숫자 연속으로 \n",
    "numbers = re.findall(\"\\d+\", tmp_string)\n",
    "print(numbers)\n",
    "\n",
    "\n",
    "# 숫자 하나씩\n",
    "numbers = re.findall(\"\\d\", tmp_string)\n",
    "print(numbers)\n",
    "\n",
    "        "
   ]
  },
  {
   "cell_type": "markdown",
   "metadata": {},
   "source": [
    "---"
   ]
  },
  {
   "cell_type": "markdown",
   "metadata": {},
   "source": [
    "## 3052 - `set()` - 중복 제거 , 집합\n",
    "\n",
    "\n",
    "- list to set\n",
    "\n",
    "### 문제\n",
    "두 자연수 A와 B가 있을 때, A%B는 A를 B로 나눈 나머지 이다. \n",
    "\n",
    "예를 들어, 7, 14, 27, 38을 3으로 나눈 나머지는 1, 2, 0, 2이다. \n",
    "\n",
    "수 10개를 입력받은 뒤, 이를 42로 나눈 나머지를 구한다. \n",
    "\n",
    "그 다음 서로 다른 값이 몇 개 있는지 출력하는 프로그램을 작성하시오.\n",
    "\n",
    "### 입력\n",
    "첫째 줄부터 열번째 줄 까지 숫자가 한 줄에 하나씩 주어진다. 이 숫자는 1,000보다 작거나 같고, 음이 아닌 정수이다.\n",
    "\n",
    "### 출력\n",
    "첫째 줄에, 42로 나누었을 때, 서로 다른 나머지가 몇 개 있는지 출력한다.\n"
   ]
  },
  {
   "cell_type": "code",
   "execution_count": 20,
   "metadata": {},
   "outputs": [
    {
     "name": "stdout",
     "output_type": "stream",
     "text": [
      "39\n",
      "40\n",
      "41\n",
      "42\n",
      "43\n",
      "44\n",
      "82\n",
      "83\n",
      "84\n",
      "85\n"
     ]
    }
   ],
   "source": [
    "lst = list( int(input()) for i in range(10))\n",
    "\n",
    "lst_tmp = list()\n",
    "\n",
    "for i in lst:\n",
    "    lst_tmp.append(i % 42)\n",
    "\n",
    "lst_set = set(lst_tmp)\n",
    "\n",
    "print(len(lst_set))"
   ]
  },
  {
   "cell_type": "markdown",
   "metadata": {},
   "source": [
    "### numpy"
   ]
  },
  {
   "cell_type": "code",
   "execution_count": null,
   "metadata": {
    "scrolled": true
   },
   "outputs": [],
   "source": [
    "import numpy as np\n",
    "\n",
    "input_lst  = [int(input()) for i in range(10)]\n",
    "lst = []\n",
    "\n",
    "for i in input_lst:\n",
    "    lst.append(i%42)\n",
    "    \n",
    "lst = np.unique(lst)\n",
    "\n",
    "print(len(lst))"
   ]
  },
  {
   "cell_type": "markdown",
   "metadata": {},
   "source": [
    "## 1546 - `sum(lst) / len(lst)`\n",
    "\n",
    "\n",
    "### 문제\n",
    "세준이는 기말고사를 망쳤다. \n",
    "\n",
    "세준이는 점수를 조작해서 집에 가져가기로 했다. \n",
    "\n",
    "- **일단 세준이는 자기 점수 중에 최댓값을 골랐다. 이 값을 M이라고 한다. 그리고 나서 모든 점수를 점수/M*100으로 고쳤다.**\n",
    "\n",
    "예를 들어, 세준이의 최고점이 70이고, 수학점수가 50이었으면 수학점수는 50/70*100이 되어 71.43점이 된다.\n",
    "\n",
    "세준이의 성적을 위의 방법대로 새로 계산했을 때, 새로운 평균을 구하는 프로그램을 작성하시오.\n",
    "\n",
    "### 입력\n",
    "첫째 줄에 시험 본 과목의 개수 N이 주어진다. 이 값은 1000보다 작거나 같다. \n",
    "\n",
    "둘째 줄에 세준이의 현재 성적이 주어진다. \n",
    "\n",
    "이 값은 100보다 작거나 같은 음이 아닌 정수이고, 적어도 하나의 값은 0보다 크다.\n",
    "\n",
    "### 출력\n",
    "\n",
    "첫째 줄에 새로운 평균을 출력한다. \n",
    "\n",
    "실제 정답과 출력값의 절대오차 또는 상대오차가 10-2 이하이면 정답이다.\n"
   ]
  },
  {
   "cell_type": "code",
   "execution_count": 59,
   "metadata": {},
   "outputs": [
    {
     "name": "stdout",
     "output_type": "stream",
     "text": [
      "3\n",
      "10 20 30\n",
      "66.66666666666667\n"
     ]
    }
   ],
   "source": [
    "N = int(input())\n",
    "\n",
    "lst = list(map(int,input().split()))\n",
    "\n",
    "M = max(lst)\n",
    "\n",
    "new_lst = list()\n",
    "\n",
    "for i in lst:\n",
    "    new_lst.append((i/M) * 100)\n",
    "    \n",
    "\n",
    "sum = 0\n",
    "\n",
    "for i in new_lst:\n",
    "    sum += i\n",
    "\n",
    "print(sum / N)\n"
   ]
  },
  {
   "cell_type": "code",
   "execution_count": 60,
   "metadata": {},
   "outputs": [
    {
     "data": {
      "text/plain": [
       "66.66666666666666"
      ]
     },
     "execution_count": 60,
     "metadata": {},
     "output_type": "execute_result"
    }
   ],
   "source": [
    "import statistics\n",
    "\n",
    "statistics.mean(new_lst)"
   ]
  },
  {
   "cell_type": "markdown",
   "metadata": {},
   "source": [
    "---"
   ]
  },
  {
   "cell_type": "markdown",
   "metadata": {},
   "source": [
    "## 8958 - 점수 올리기 증가 점수 \n",
    "\n",
    "- variable\n",
    "\n",
    "### 문제\n",
    "\"OOXXOXXOOO\"와 같은 OX퀴즈의 결과가 있다. \n",
    "\n",
    "O는 문제를 맞은 것이고, X는 문제를 틀린 것이다. \n",
    "\n",
    "문제를 맞은 경우 그 문제의 점수는 그 문제까지 연속된 O의 개수가 된다. 예를 들어, 10번 문제의 점수는 3이 된다.\n",
    "\n",
    "\"OOXXOXXOOO\"의 점수는 1+2+0+0+1+0+0+1+2+3 = 10점이다.\n",
    "\n",
    "OX퀴즈의 결과가 주어졌을 때, 점수를 구하는 프로그램을 작성하시오.\n",
    "\n",
    "### 입력\n",
    "첫째 줄에 테스트 케이스의 개수가 주어진다. 각 테스트 케이스는 한 줄로 이루어져 있고, 길이가 0보다 크고 80보다 작은 문자열이 주어진다. 문자열은 O와 X만으로 이루어져 있다.\n",
    "\n",
    "### 출력\n",
    "각 테스트 케이스마다 점수를 출력한다."
   ]
  },
  {
   "cell_type": "markdown",
   "metadata": {},
   "source": [
    "리스트에서 하나씩 꺼내서 o면  +1 \n",
    "\n",
    "이전까지 나온 값 \n",
    "\n",
    "Value + 1 + before\n",
    "\n",
    "lst = \"OOXXOXXOOO\"\n",
    "\n",
    "OOOO\n"
   ]
  },
  {
   "cell_type": "code",
   "execution_count": 72,
   "metadata": {},
   "outputs": [
    {
     "name": "stdout",
     "output_type": "stream",
     "text": [
      "5\n",
      "OOXXOXXOOO\n",
      "OOXXOOXXOO\n",
      "OXOXOXOXOXOXOX\n",
      "OOOOOOOOOO\n",
      "OOOOXOOOOXOOOOX\n",
      "10\n",
      "9\n",
      "7\n",
      "55\n",
      "30\n"
     ]
    }
   ],
   "source": [
    "N = int(input())\n",
    "\n",
    "\n",
    "lst = list(input() for i in range(N))\n",
    "lst_score = list()\n",
    "\n",
    "\n",
    "for lst_i in lst:\n",
    "    \n",
    "    score = 0\n",
    "    o_t = 0\n",
    "\n",
    "    for i in range(len(lst_i)):\n",
    "\n",
    "\n",
    "        if (lst_i[i] == 'O'):\n",
    "            o_t  += 1\n",
    "            score += o_t\n",
    "\n",
    "        else:\n",
    "             o_t = 0\n",
    "\n",
    "    \n",
    "        \n",
    "    lst_score.append(score)\n",
    "\n",
    "for i in lst_score:\n",
    "    print(i)\n"
   ]
  },
  {
   "cell_type": "markdown",
   "metadata": {},
   "source": [
    "---"
   ]
  },
  {
   "cell_type": "markdown",
   "metadata": {},
   "source": [
    "## 4344 - `print('{:.3f}%'.format())`\n",
    "\n",
    "\n",
    "### 문제\n",
    "대학생 새내기들의 90%는 자신이 반에서 평균은 넘는다고 생각한다. 당신은 그들에게 슬픈 진실을 알려줘야 한다.\n",
    "\n",
    "### 입력\n",
    "첫째 줄에는 테스트 케이스의 개수 C가 주어진다.\n",
    "\n",
    "둘째 줄부터 각 테스트 케이스마다 학생의 수 N(1 ≤ N ≤ 1000, N은 정수)이 첫 수로 주어지고, 이어서 N명의 점수가 주어진다. \n",
    "\n",
    "점수는 0보다 크거나 같고, 100보다 작거나 같은 정수이다.\n",
    "\n",
    "### 출력\n",
    "\n",
    "**각 케이스마다 한 줄씩 평균을 넘는 학생들의 비율**을 반올림하여 소수점 셋째 자리까지 출력한다."
   ]
  },
  {
   "cell_type": "code",
   "execution_count": null,
   "metadata": {},
   "outputs": [],
   "source": [
    "N = int(input())\n",
    "\n",
    "\n",
    "for i in range(N):\n",
    "    \n",
    "    #lst = list(map(int,input().split()))\n",
    "    lst = list(map(int,sys.stdin.readline().split()))\n",
    "    \n",
    "    s   = 0\n",
    "    \n",
    "    for i in range(1,len(lst)):\n",
    "        \n",
    "        s+=lst[i]\n",
    "        mean = s / lst[0]\n",
    "    \n",
    "    c   = 0\n",
    "\n",
    "    for i in range(1,len(lst)):\n",
    "        if lst[i] > mean:\n",
    "            c+=1\n",
    "    \n",
    "    \n",
    "        \n",
    "    print('{:.3f}%'.format(c/lst[0]*100))\n",
    "    "
   ]
  }
 ],
 "metadata": {
  "hide_input": false,
  "kernelspec": {
   "display_name": "Python 3",
   "language": "python",
   "name": "python3"
  },
  "language_info": {
   "codemirror_mode": {
    "name": "ipython",
    "version": 3
   },
   "file_extension": ".py",
   "mimetype": "text/x-python",
   "name": "python",
   "nbconvert_exporter": "python",
   "pygments_lexer": "ipython3",
   "version": "3.8.5"
  },
  "toc": {
   "base_numbering": 1,
   "nav_menu": {},
   "number_sections": true,
   "sideBar": true,
   "skip_h1_title": false,
   "title_cell": "Table of Contents",
   "title_sidebar": "Contents",
   "toc_cell": false,
   "toc_position": {
    "height": "calc(100% - 180px)",
    "left": "10px",
    "top": "150px",
    "width": "213.55978393554688px"
   },
   "toc_section_display": true,
   "toc_window_display": true
  }
 },
 "nbformat": 4,
 "nbformat_minor": 4
}
