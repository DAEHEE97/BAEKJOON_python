{
 "cells": [
  {
   "cell_type": "markdown",
   "metadata": {},
   "source": [
    "# sys\n",
    "\n",
    "\n",
    "- sys : 파이썬 인터프리터가 제공하는 변수와 함수를 직접 제어할 수 있게 해주는 모듈\n"
   ]
  },
  {
   "cell_type": "markdown",
   "metadata": {},
   "source": [
    "\n",
    "\n",
    "`sys.stdin.readline( )`\n",
    "\n",
    "\n",
    "- `input()`대신 `sys.stdin.readline()`을 사용하는 이유\n",
    "\n",
    "- __한 두줄 입력받는 문제들과 다르게, 반복문으로 여러줄을 입력 받아야 할 때는 input()으로 입력 받는다면 시간초과가 발생할 수 있습니다.__ \n",
    "\n",
    "- `sys.stdin.readline()`의 return 값은 문자열(string)이기 때문에, 정수로 입력받으려면 int()형변환을 해줘야한다.\n",
    "\n",
    "- int() 형 변환시 \\n 자동 제거되므로, 여러개의 정수를 입력받을시 `map` 함수를 사용 `map(int,sns.stdin.readline().strip())`\n",
    "\n",
    "\n",
    "`strip()`\n",
    "\n",
    "\n",
    "- `strip()` : 양쪽 문자열에 공백이나 인자가된 문자열의 모든 조합을 제거\n",
    "\n",
    "- `rstrip()` : 문자열에 오른쪽 공백이나 인자가된 문자열의 모든 조합을 제거\n",
    "\n",
    "- `lstrip()` : 문자열에 왼쪽 공백이나 인자가된 문자열의 모든 조합을 제거\n",
    "\n",
    "- `sys.stdin.readline()`으로 입력시 '\\n' 자동 추가 되므로 `sys.stdin.readline().rstirp()` 하여 \\n 제거 \n"
   ]
  },
  {
   "cell_type": "markdown",
   "metadata": {},
   "source": [
    "## 15552"
   ]
  },
  {
   "cell_type": "code",
   "execution_count": null,
   "metadata": {},
   "outputs": [],
   "source": [
    "# 1. 문자열을  받을 때\n",
    "\n",
    "import sys\n",
    "\n",
    "sentence = sys.stdin.readline().rstrip()\n",
    "\n",
    "print(sentence)\n",
    "    "
   ]
  },
  {
   "cell_type": "code",
   "execution_count": null,
   "metadata": {},
   "outputs": [],
   "source": [
    "# 2. 한 개의 정수를 입력받을 때\n",
    "\n",
    "# sys.stdin.readline()으로 받은 문자열은 개행문자(\\n)을 포함한다. \n",
    "# 문자열을 int()로 형변환을 해주면 개행문자는 사라지고 정수형태만 남는다.\n",
    "\n",
    "\n",
    "import sys\n",
    "number = int(sys.stdin.readline())\n",
    "print(number)"
   ]
  },
  {
   "cell_type": "code",
   "execution_count": null,
   "metadata": {},
   "outputs": [],
   "source": [
    "# 3. 여러 개의 정수를 입력받을 때\n",
    "\n",
    "import sys\n",
    "n1,n2 = map(int,sys.stdin.readline().split())\n",
    "print(n1,n2)"
   ]
  },
  {
   "cell_type": "code",
   "execution_count": null,
   "metadata": {},
   "outputs": [],
   "source": [
    "# 4. 문자열 N 줄을 입력받아 lst 에 저장할 때\n",
    "\n",
    "import sys \n",
    "n = int(sys.stdin.readline()) \n",
    "data_lst = [sys.stdin.readline().strip() for i in range(n)]\n",
    "\n"
   ]
  },
  {
   "cell_type": "markdown",
   "metadata": {},
   "source": [
    "## 10952 \n",
    "\n",
    "- `map(int,sys.stdin.readline().split()`\n",
    "\n",
    "- while(1)\n",
    "- while(False) > run `\n",
    "\n",
    "\n",
    "N target - 같은 경우 반복 탈출\n",
    "\n",
    "while(N != target) 계속 달라 같아지면 탈출 \n",
    "\n",
    "\n",
    "\n",
    "\n",
    "\n",
    "\n",
    "N target - 다를 경우 반복 탈출\n",
    "\n",
    "while(N == target) 계속 같다가 달라지면 탈출"
   ]
  },
  {
   "cell_type": "code",
   "execution_count": null,
   "metadata": {},
   "outputs": [],
   "source": [
    "import sys\n",
    "\n",
    "while(1):\n",
    "    \n",
    "    n1,n2 = map(int,sys.stdin.readline().split())\n",
    "    \n",
    "    if (n1 == 0 and n2 == 0):\n",
    "        break\n",
    "    \n",
    "    print(n1+n2)"
   ]
  },
  {
   "cell_type": "markdown",
   "metadata": {},
   "source": [
    "## 10951\n",
    "\n",
    "- try except\n"
   ]
  },
  {
   "cell_type": "code",
   "execution_count": null,
   "metadata": {},
   "outputs": [],
   "source": [
    "import sys\n",
    "\n",
    "while(1):\n",
    "    \n",
    "    try:\n",
    "        n1,n2 = map(int,sys.stdin.readline().split())\n",
    "        \n",
    "        print(n1+n2)\n",
    "    \n",
    "    except:\n",
    "        break"
   ]
  },
  {
   "cell_type": "markdown",
   "metadata": {},
   "source": [
    "---"
   ]
  },
  {
   "cell_type": "markdown",
   "metadata": {},
   "source": [
    "## 1110 - 자릿수 분리\n",
    "\n",
    "\n",
    "### 문제\n",
    "\n",
    "0보다 크거나 같고, 99보다 작거나 같은 정수가 주어질 때 다음과 같은 연산을 할 수 있다. \n",
    "\n",
    "먼저 주어진 수가 10보다 작다면 앞에 0을 붙여 두 자리 수로 만들고, 각 자리의 숫자를 더한다. \n",
    "\n",
    "그 다음, 주어진 수의 가장 오른쪽 자리 수와 앞에서 구한 합의 가장 오른쪽 자리 수를 이어 붙이면 새로운 수를 만들 수 있다. \n",
    "\n",
    "다음 예를 보자.\n",
    "\n",
    "26부터 시작한다. 2+6 = 8이다. \n",
    "\n",
    "새로운 수는 68이다. 6+8 = 14이다. 새로운 수는 84이다. 8+4 = 12이다. \n",
    "\n",
    "새로운 수는 42이다. 4+2 = 6이다. 새로운 수는 26이다.\n",
    "\n",
    "위의 예는 4번만에 원래 수로 돌아올 수 있다. \n",
    "\n",
    "따라서 26의 사이클의 길이는 4이다.\n",
    "\n",
    "N이 주어졌을 때, N의 사이클의 길이를 구하는 프로그램을 작성하시오.\n",
    "\n",
    "### 입력\n",
    "\n",
    "첫째 줄에 N이 주어진다. N은 0보다 크거나 같고, 99보다 작거나 같은 정수이다.\n",
    "\n",
    "### 출력\n",
    "\n",
    "첫째 줄에 N의 사이클 길이를 출력한다.\n",
    "- divmod"
   ]
  },
  {
   "cell_type": "code",
   "execution_count": 1,
   "metadata": {},
   "outputs": [
    {
     "name": "stdout",
     "output_type": "stream",
     "text": [
      "26\n",
      "4\n"
     ]
    }
   ],
   "source": [
    "N = int(input())\n",
    "\n",
    "cnt = 0\n",
    "\n",
    "target = N\n",
    "\n",
    "if N < 10:\n",
    "    N*10\n",
    "    \n",
    "\n",
    "while(1):\n",
    "    \n",
    "    m,d = divmod(N,10)\n",
    "\n",
    "    sum = (m + d) % 10 # 1의 자리수 만 사용 만약 두 수 더했을시 2자리 수가 넘어가면  \n",
    "\n",
    "    N = d*10 + sum\n",
    "\n",
    "    cnt +=1\n",
    "\n",
    "    if( N == target ):\n",
    "        break;\n",
    "    \n",
    "print(cnt)\n"
   ]
  }
 ],
 "metadata": {
  "hide_input": false,
  "kernelspec": {
   "display_name": "Python 3",
   "language": "python",
   "name": "python3"
  },
  "language_info": {
   "codemirror_mode": {
    "name": "ipython",
    "version": 3
   },
   "file_extension": ".py",
   "mimetype": "text/x-python",
   "name": "python",
   "nbconvert_exporter": "python",
   "pygments_lexer": "ipython3",
   "version": "3.8.5"
  },
  "toc": {
   "base_numbering": 1,
   "nav_menu": {},
   "number_sections": true,
   "sideBar": true,
   "skip_h1_title": false,
   "title_cell": "Table of Contents",
   "title_sidebar": "Contents",
   "toc_cell": false,
   "toc_position": {
    "height": "calc(100% - 180px)",
    "left": "10px",
    "top": "150px",
    "width": "305.38043212890625px"
   },
   "toc_section_display": true,
   "toc_window_display": true
  }
 },
 "nbformat": 4,
 "nbformat_minor": 4
}
